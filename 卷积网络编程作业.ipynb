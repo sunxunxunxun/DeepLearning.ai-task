{
 "cells": [
  {
   "cell_type": "code",
   "execution_count": 3,
   "metadata": {},
   "outputs": [],
   "source": [
    "import numpy as np\n",
    "import h5py\n",
    "import matplotlib.pyplot as plt"
   ]
  },
  {
   "cell_type": "code",
   "execution_count": 9,
   "metadata": {},
   "outputs": [
    {
     "name": "stdout",
     "output_type": "stream",
     "text": [
      "The autoreload extension is already loaded. To reload it, use:\n",
      "  %reload_ext autoreload\n"
     ]
    }
   ],
   "source": [
    "%matplotlib inline\n",
    "plt.rcParams['figure.figsize'] = (5.0, 4.0)\n",
    "plt.rcParams['image.interpolation'] = 'nearest'\n",
    "plt.rcParams['image.cmap'] = 'gray'\n",
    "#在执行用户代码前，重新装入软件的扩展和模块。\n",
    "%load_ext autoreload\n",
    "#autoreload 2：装入所有 %aimport 不包含的模块。\n",
    "%autoreload 2"
   ]
  },
  {
   "cell_type": "code",
   "execution_count": 10,
   "metadata": {},
   "outputs": [],
   "source": [
    "np.random.seed(1)"
   ]
  },
  {
   "cell_type": "code",
   "execution_count": 30,
   "metadata": {},
   "outputs": [
    {
     "name": "stdout",
     "output_type": "stream",
     "text": [
      "(3, 3, 6)\n"
     ]
    }
   ],
   "source": [
    "#填充一个5维向量，其中第二维用pad=1，第三维用pad=3，其余用0填充，constant_values=(x,y)，分别表示前面用x，后面用y填充\n",
    "#a = np.pad(a, ((0,0),(1,1),(0,0),(3,3),(0,0)), 'constant', constant_values=(..,..))\n",
    "#比如\n",
    "import numpy as np\n",
    "arr3D = np.array([[[1,2,3,4,5,6],\n",
    "                   [1,2,3,4,5,6],\n",
    "                   [1,2,3,4,5,6]],\n",
    "                  \n",
    "                 [[0,1,2,3,4,5],\n",
    "                  [0,1,2,3,4,5],\n",
    "                  [0,1,2,3,4,5]],\n",
    "                  \n",
    "                 [[1,1,2,2,3,4],\n",
    "                  [1,1,2,2,3,4],\n",
    "                  [1,1,2,2,3,4]]])\n",
    "print(arr3D.shape)\n"
   ]
  },
  {
   "cell_type": "code",
   "execution_count": 40,
   "metadata": {},
   "outputs": [
    {
     "name": "stdout",
     "output_type": "stream",
     "text": [
      "Constant: \n",
      "[[[0 0 0 0 0 0 0 0 0 0]\n",
      "  [0 0 1 2 3 4 5 6 0 0]\n",
      "  [0 0 1 2 3 4 5 6 0 0]\n",
      "  [0 0 1 2 3 4 5 6 0 0]\n",
      "  [0 0 0 0 0 0 0 0 0 0]]\n",
      "\n",
      " [[0 0 0 0 0 0 0 0 0 0]\n",
      "  [0 0 0 1 2 3 4 5 0 0]\n",
      "  [0 0 0 1 2 3 4 5 0 0]\n",
      "  [0 0 0 1 2 3 4 5 0 0]\n",
      "  [0 0 0 0 0 0 0 0 0 0]]\n",
      "\n",
      " [[0 0 0 0 0 0 0 0 0 0]\n",
      "  [0 0 1 1 2 2 3 4 0 0]\n",
      "  [0 0 1 1 2 2 3 4 0 0]\n",
      "  [0 0 1 1 2 2 3 4 0 0]\n",
      "  [0 0 0 0 0 0 0 0 0 0]]]\n"
     ]
    }
   ],
   "source": [
    "print('Constant: \\n'+str(np.pad(arr3D, ((0, 0), (1, 1),(2,2)), 'constant')))"
   ]
  },
  {
   "cell_type": "code",
   "execution_count": 55,
   "metadata": {},
   "outputs": [],
   "source": [
    "def zero_pad(X, pad):\n",
    "    \"\"\"\n",
    "    把数据集X的图像边界全部使用0来扩充pad个宽度和高度。\n",
    "    \n",
    "    参数：\n",
    "        X - 图像数据集，维度为（样本数，图像高度，图像宽度，图像通道数）\n",
    "        pad - 整数，每个图像在垂直和水平维度上的填充量\n",
    "    返回：\n",
    "        X_paded - 扩充后的图像数据集，维度为（样本数，图像高度 + 2*pad，图像宽度 + 2*pad，图像通道数）\n",
    "    \n",
    "    \"\"\"\n",
    "    X_paded = np.pad(X,((0,0),(pad,pad),(pad,pad),(0,0)),'constant',constant_values=0)\n",
    "    return X_paded"
   ]
  },
  {
   "cell_type": "code",
   "execution_count": 71,
   "metadata": {},
   "outputs": [
    {
     "name": "stdout",
     "output_type": "stream",
     "text": [
      "X.shape= (4, 3, 3, 2)\n",
      "X_paded.shape= (4, 7, 7, 2)\n"
     ]
    }
   ],
   "source": [
    "np.random.seed(1)\n",
    "X = np.random.randn(4,3,3,2)\n",
    "X_paded = zero_pad(X,2)\n",
    "print('X.shape= '+str(X.shape))\n",
    "print('X_paded.shape= '+str(X_paded.shape))"
   ]
  },
  {
   "cell_type": "code",
   "execution_count": 72,
   "metadata": {},
   "outputs": [
    {
     "data": {
      "text/plain": [
       "<matplotlib.image.AxesImage at 0x1ad1c54c6a0>"
      ]
     },
     "execution_count": 72,
     "metadata": {},
     "output_type": "execute_result"
    },
    {
     "data": {
      "image/png": "[encoded data removed]",
      "text/plain": [
       "<Figure size 360x288 with 2 Axes>"
      ]
     },
     "metadata": {
      "needs_background": "light"
     },
     "output_type": "display_data"
    }
   ],
   "source": [
    "#绘制图\n",
    "fig, axarr = plt.subplots(1,2)\n",
    "axarr[0].set_title('X')\n",
    "axarr[0].imshow(X[0,:,:,0])\n",
    "axarr[1].set_title('X-paded')\n",
    "axarr[1].imshow(X_paded[0,:,:,0])"
   ]
  },
  {
   "cell_type": "code",
   "execution_count": 74,
   "metadata": {},
   "outputs": [],
   "source": [
    "#单步卷积 切片大小与过滤器大小相等\n",
    "def conv_single_step(a_slice_prev,W,b):\n",
    "    \"\"\"\n",
    "    在前一层的激活输出的一个片段上应用一个由参数W定义的过滤器。\n",
    "    这里切片大小和过滤器大小相同\n",
    "    \n",
    "    参数：\n",
    "        a_slice_prev - 输入数据的一个片段，维度为（过滤器大小，过滤器大小，上一通道数）\n",
    "        W - 权重参数，包含在了一个矩阵中，维度为（过滤器大小，过滤器大小，上一通道数）\n",
    "        b - 偏置参数，包含在了一个矩阵中，维度为（1,1,1）\n",
    "        \n",
    "    返回：\n",
    "        Z - 在输入数据的片X上卷积滑动窗口（w，b）的结果。\n",
    "    \"\"\"\n",
    "    s = np.multiply(a_slice_prev,W)+b\n",
    "    Z = np.sum(s)\n",
    "    return Z"
   ]
  },
  {
   "cell_type": "code",
   "execution_count": 76,
   "metadata": {},
   "outputs": [
    {
     "name": "stdout",
     "output_type": "stream",
     "text": [
      "Z= -23.16021220252078\n"
     ]
    }
   ],
   "source": [
    "np.random.seed(1)\n",
    "a_slice_prev = np.random.randn(4,4,3)\n",
    "W = np.random.randn(4,4,3)\n",
    "b = np.random.randn(1,1,1)\n",
    "print('Z= '+str(conv_single_step(a_slice_prev,W,b)))"
   ]
  },
  {
   "cell_type": "code",
   "execution_count": 102,
   "metadata": {},
   "outputs": [],
   "source": [
    "#卷积神经网络 前向传播\n",
    "#在前向传播过程中，用多种过滤器对输入的数据进行卷积操作（通过设置过滤器的bias-b，挑选出图像的不同特征），每个过滤器产生一个2D的矩阵，堆叠起来就变成了一个高维的矩阵\n",
    "def conv_forward(A_prev,W,b,hparameters):\n",
    "    \"\"\"\n",
    "    实现卷积函数的前向传播\n",
    "    \n",
    "    参数：\n",
    "        A_prev - 上一层的激活输出矩阵，维度为(m, n_H_prev, n_W_prev, n_C_prev)，（样本数量，上一层图像的高度，上一层图像的宽度，上一层过滤器数量）\n",
    "        W - 权重矩阵，维度为(f, f, n_C_prev, n_C)，（过滤器大小，过滤器大小，上一层的过滤器数量，这一层的过滤器数量）\n",
    "        b - 偏置矩阵，维度为(1, 1, 1, n_C)，（1,1,1,这一层的过滤器数量）\n",
    "        hparameters - 包含了\"stride\"与 \"pad\"的超参数字典。\n",
    "    \n",
    "    返回：\n",
    "        Z - 卷积输出，维度为(m, n_H, n_W, n_C)，（样本数，图像的高度，图像的宽度，过滤器数量）\n",
    "        cache - 缓存了一些反向传播函数conv_backward()需要的一些数据\n",
    "    \"\"\"\n",
    "    (m, n_H_prev, n_W_prev, n_C_prev) = A_prev.shape\n",
    "    (f, f, n_C_prev, n_C) = W.shape\n",
    "    stride = hparameters[\"stride\"]\n",
    "    pad = hparameters[\"pad\"]\n",
    "    \n",
    "    n_H = int((n_H_prev+2*pad-f)/stride+1)\n",
    "    n_W = int((n_W_prev+2*pad-f)/stride+1)\n",
    "    \n",
    "    #使用0初始化卷积生成的矩阵\n",
    "    Z = np.zeros((m,n_H,n_W,n_C))\n",
    "    \n",
    "    A_prev_pad = zero_pad(A_prev, pad)\n",
    "    \n",
    "    for i in range(m):\n",
    "        #选择第i个样本\n",
    "        a_prev_pad = A_prev_pad[i]\n",
    "        print(\"A_prev_pad.shape = \",A_prev_pad.shape)\n",
    "        print(\"a_prev_pad.shape = \",a_prev_pad.shape)\n",
    "        for h in range(n_H):\n",
    "            for w in range(n_W):\n",
    "                for c in range(n_C):\n",
    "                    #定位当前的切片位置\n",
    "                    vert_start = h*stride\n",
    "                    vert_end = vert_start+f\n",
    "                    horiz_start = w*stride\n",
    "                    horiz_end = horiz_start+f\n",
    "                    \n",
    "                    a_slice_prev = a_prev_pad[vert_start:vert_end, horiz_start:horiz_end, :]\n",
    "                    #b=[1,1,1,c]\n",
    "                    Z[i,h,w,c] = conv_single_step(a_slice_prev, W[:,:,:,c], b[0,0,0,c])\n",
    "        \n",
    "        #检查结果是否正确\n",
    "        assert(Z.shape==(m,n_H,n_W,n_C))\n",
    "        #存储缓存值，便于反向传播\n",
    "        cache = (A_prev,W,b,hparameters)\n",
    "        \n",
    "        return(Z, cache)"
   ]
  },
  {
   "cell_type": "code",
   "execution_count": 103,
   "metadata": {},
   "outputs": [
    {
     "name": "stdout",
     "output_type": "stream",
     "text": [
      "A_prev_pad.shape =  (10, 8, 8, 3)\n",
      "a_prev_pad.shape =  (8, 8, 3)\n",
      "Z.shape =  (10, 7, 7, 8)\n",
      "np.mean(Z) =  0.01557186883457127\n",
      "cache_conv[0][1][2][3] =  [-0.20075807  0.18656139  0.41005165]\n"
     ]
    }
   ],
   "source": [
    "np.random.seed(1)\n",
    "#理解三者的维数关系\n",
    "A_prev = np.random.randn(10,4,4,3)\n",
    "W = np.random.randn(2,2,3,8)\n",
    "b = np.random.randn(1,1,1,8)\n",
    "hparameters = {\"pad\":2, \"stride\":1}\n",
    "\n",
    "Z, cache_conv = conv_forward(A_prev,W,b,hparameters)\n",
    "\n",
    "print(\"Z.shape = \",Z.shape)\n",
    "print(\"np.mean(Z) = \",np.mean(Z))\n",
    "print(\"cache_conv[0][1][2][3] = \",cache_conv[0][1][2][3])\n",
    "#实际还应包含一个激活函数"
   ]
  },
  {
   "cell_type": "code",
   "execution_count": 121,
   "metadata": {},
   "outputs": [],
   "source": [
    "#池化层\n",
    "def pool_forward(A_prev,hparameters,mode=\"max\"):\n",
    "    \"\"\"\n",
    "    实现池化层的前向传播\n",
    "    \n",
    "    参数：\n",
    "        A_prev - 输入数据，维度为(m, n_H_prev, n_W_prev, n_C_prev)\n",
    "        hparameters - 包含了 \"f\" 和 \"stride\"的超参数字典\n",
    "        mode - 模式选择【\"max\" | \"average\"】\n",
    "        \n",
    "    返回：\n",
    "        A - 池化层的输出，维度为 (m, n_H, n_W, n_C)\n",
    "        cache - 存储了一些反向传播需要用到的值，包含了输入和超参数的字典。\n",
    "    \"\"\"\n",
    "    f = hparameters[\"f\"]\n",
    "    stride = hparameters[\"stride\"]\n",
    "    m,n_H_prev,n_W_prev,n_C_prev = A_prev.shape\n",
    "    \n",
    "    #计算输出的维度\n",
    "    n_H = int((n_H_prev-f)/stride+1)\n",
    "    n_W = int((n_W_prev-f)/stride+1)\n",
    "    n_C = n_C_prev\n",
    "    \n",
    "    A = np.zeros((m,n_H,n_W,n_C))\n",
    "    \n",
    "    for i in range(m):\n",
    "        for h in range(n_H):\n",
    "            for w in range(n_W):\n",
    "                for c in range(n_C):\n",
    "                    vert_start = h*stride\n",
    "                    vert_end = vert_start+f\n",
    "                    horiz_start = w*stride\n",
    "                    horiz_end = horiz_start+f\n",
    "                    #定位切片\n",
    "                    a_slice_prev = A_prev[vert_start:vert_end,horiz_start:horiz_end,c]\n",
    "                    #对切片进行池化操作\n",
    "                    if mode==\"max\":\n",
    "                        A[i,h,w,c] = np.max(a_slice_prev)\n",
    "                    elif mode==\"average\":\n",
    "                        A[i,h,w,c] = np.mean(a_slice_prev)\n",
    "                    \n",
    "    #检查\n",
    "    assert(A.shape==(m,n_H,n_W,n_C))\n",
    "    #保存缓存值用于反向传播\n",
    "    cache = (A_prev,hparameters)\n",
    "    \n",
    "    return A,cache                "
   ]
  },
  {
   "cell_type": "code",
   "execution_count": 123,
   "metadata": {},
   "outputs": [
    {
     "name": "stdout",
     "output_type": "stream",
     "text": [
      "mode=max\n",
      "A =  [[[[1.65980218 1.12948391 2.18557541]]]\n",
      "\n",
      "\n",
      " [[[1.65980218 1.12948391 2.18557541]]]]\n",
      "mode=average\n",
      "A=  [[[[ 0.20126166 -0.30295078  0.328328  ]]]\n",
      "\n",
      "\n",
      " [[[ 0.20126166 -0.30295078  0.328328  ]]]]\n"
     ]
    }
   ],
   "source": [
    "np.random.seed(1)\n",
    "A_prev = np.random.randn(2,4,4,3)\n",
    "hparameters={\"f\":4,\"stride\":1}\n",
    "\n",
    "A,cache = pool_forward(A_prev,hparameters,\"max\")\n",
    "print(\"mode=max\")\n",
    "print(\"A = \",A)\n",
    "print(\"mode=average\")\n",
    "A,cache = pool_forward(A_prev,hparameters,\"average\")\n",
    "print(\"A= \",A)"
   ]
  },
  {
   "cell_type": "code",
   "execution_count": null,
   "metadata": {},
   "outputs": [],
   "source": []
  }
 ],
 "metadata": {
  "kernelspec": {
   "display_name": "Python 3",
   "language": "python",
   "name": "python3"
  },
  "language_info": {
   "codemirror_mode": {
    "name": "ipython",
    "version": 3
   },
   "file_extension": ".py",
   "mimetype": "text/x-python",
   "name": "python",
   "nbconvert_exporter": "python",
   "pygments_lexer": "ipython3",
   "version": "3.7.3"
  }
 },
 "nbformat": 4,
 "nbformat_minor": 2
}
